{
 "cells": [
  {
   "cell_type": "markdown",
   "id": "aab82eb1-f751-476d-9701-4422b3ecd218",
   "metadata": {},
   "source": [
    "### Som Moroliya\n",
    "#### D2 -57"
   ]
  },
  {
   "cell_type": "code",
   "execution_count": 1,
   "id": "2a7e1b3d-c391-402e-89f5-975f97f6950a",
   "metadata": {},
   "outputs": [],
   "source": [
    "import string\n",
    "import nltk"
   ]
  },
  {
   "cell_type": "code",
   "execution_count": 2,
   "id": "cf7a8d6e-ed6f-40a4-9691-a82c3797f4dd",
   "metadata": {},
   "outputs": [],
   "source": [
    "from collections import Counter\n",
    "import re\n",
    "from nltk.util import bigrams\n",
    "from nltk.tokenize import word_tokenize\n",
    "import matplotlib.pyplot as plt"
   ]
  },
  {
   "cell_type": "code",
   "execution_count": 3,
   "id": "67cb2d65-4afc-4667-9c52-20aed0184438",
   "metadata": {},
   "outputs": [],
   "source": [
    "text_corpus = [\n",
    "    \"The sun shines bright in the clear blue sky\",\n",
    "    \"Flowers bloom with vibrant colors in spring\",\n",
    "    \"Trees provide shade and fresh air in the forest\",\n",
    "    \"Rivers flow gently through the mountains\",\n",
    "    \"Birds sing melodious songs at dawn\",\n",
    "    \"The moon casts a soft glow on the earth at night\",\n",
    "    \"Stars twinkle in the vast night sky\",\n",
    "    \"Rain nourishes the soil, bringing life to plants\",\n",
    "    \"Winds whisper through the leaves of trees\",\n",
    "    \"The beauty of nature is a gift to all\"\n",
    "]"
   ]
  },
  {
   "cell_type": "code",
   "execution_count": 4,
   "id": "c0cec9ed-17a9-4777-a361-c1c98da99e26",
   "metadata": {},
   "outputs": [],
   "source": [
    "def lowercase(listt):\n",
    "    for txt in range(len(listt)):\n",
    "        listt[txt] = listt[txt].lower()\n",
    "    return listt"
   ]
  },
  {
   "cell_type": "code",
   "execution_count": 5,
   "id": "ad9dda4b-9c7f-4cd6-b40a-a7b41f96d1c0",
   "metadata": {},
   "outputs": [],
   "source": [
    "text_corpus = lowercase(text_corpus)"
   ]
  },
  {
   "cell_type": "code",
   "execution_count": 6,
   "id": "7fae1f31-3d7e-4048-a020-13bafcaac886",
   "metadata": {},
   "outputs": [
    {
     "data": {
      "text/plain": [
       "['the sun shines bright in the clear blue sky',\n",
       " 'flowers bloom with vibrant colors in spring',\n",
       " 'trees provide shade and fresh air in the forest',\n",
       " 'rivers flow gently through the mountains',\n",
       " 'birds sing melodious songs at dawn',\n",
       " 'the moon casts a soft glow on the earth at night',\n",
       " 'stars twinkle in the vast night sky',\n",
       " 'rain nourishes the soil, bringing life to plants',\n",
       " 'winds whisper through the leaves of trees',\n",
       " 'the beauty of nature is a gift to all']"
      ]
     },
     "execution_count": 6,
     "metadata": {},
     "output_type": "execute_result"
    }
   ],
   "source": [
    "text_corpus"
   ]
  },
  {
   "cell_type": "code",
   "execution_count": 7,
   "id": "d16e35a1-12fc-4384-b2d8-802bd503e4a5",
   "metadata": {},
   "outputs": [],
   "source": [
    "def token_list(listt):\n",
    "    for sent in range(len(listt)):\n",
    "        listt[sent] = word_tokenize(listt[sent])\n",
    "    return listt"
   ]
  },
  {
   "cell_type": "code",
   "execution_count": 8,
   "id": "9cc89222-7578-467a-b846-58f1a288d493",
   "metadata": {},
   "outputs": [],
   "source": [
    "token = token_list(text_corpus)"
   ]
  },
  {
   "cell_type": "code",
   "execution_count": 9,
   "id": "223eaab3-5bcf-4347-b97c-0cec07c69ada",
   "metadata": {},
   "outputs": [],
   "source": [
    "#remember counter ------ c=Counter(token[1])"
   ]
  },
  {
   "cell_type": "code",
   "execution_count": 10,
   "id": "8e99108e-3825-423b-b836-3b43e1e5be65",
   "metadata": {},
   "outputs": [],
   "source": [
    "freq_table = {}\n",
    "for i in token:\n",
    "    for j in i:\n",
    "        if j not in freq_table.keys():\n",
    "            freq_table[j] = 1\n",
    "        else:\n",
    "            freq_table[j] += 1"
   ]
  },
  {
   "cell_type": "code",
   "execution_count": 11,
   "id": "c35715e2-747f-4f9a-a1b7-2f12b8c2c14b",
   "metadata": {
    "scrolled": true
   },
   "outputs": [
    {
     "data": {
      "text/plain": [
       "{'the': 10,\n",
       " 'sun': 1,\n",
       " 'shines': 1,\n",
       " 'bright': 1,\n",
       " 'in': 4,\n",
       " 'clear': 1,\n",
       " 'blue': 1,\n",
       " 'sky': 2,\n",
       " 'flowers': 1,\n",
       " 'bloom': 1,\n",
       " 'with': 1,\n",
       " 'vibrant': 1,\n",
       " 'colors': 1,\n",
       " 'spring': 1,\n",
       " 'trees': 2,\n",
       " 'provide': 1,\n",
       " 'shade': 1,\n",
       " 'and': 1,\n",
       " 'fresh': 1,\n",
       " 'air': 1,\n",
       " 'forest': 1,\n",
       " 'rivers': 1,\n",
       " 'flow': 1,\n",
       " 'gently': 1,\n",
       " 'through': 2,\n",
       " 'mountains': 1,\n",
       " 'birds': 1,\n",
       " 'sing': 1,\n",
       " 'melodious': 1,\n",
       " 'songs': 1,\n",
       " 'at': 2,\n",
       " 'dawn': 1,\n",
       " 'moon': 1,\n",
       " 'casts': 1,\n",
       " 'a': 2,\n",
       " 'soft': 1,\n",
       " 'glow': 1,\n",
       " 'on': 1,\n",
       " 'earth': 1,\n",
       " 'night': 2,\n",
       " 'stars': 1,\n",
       " 'twinkle': 1,\n",
       " 'vast': 1,\n",
       " 'rain': 1,\n",
       " 'nourishes': 1,\n",
       " 'soil': 1,\n",
       " ',': 1,\n",
       " 'bringing': 1,\n",
       " 'life': 1,\n",
       " 'to': 2,\n",
       " 'plants': 1,\n",
       " 'winds': 1,\n",
       " 'whisper': 1,\n",
       " 'leaves': 1,\n",
       " 'of': 2,\n",
       " 'beauty': 1,\n",
       " 'nature': 1,\n",
       " 'is': 1,\n",
       " 'gift': 1,\n",
       " 'all': 1}"
      ]
     },
     "execution_count": 11,
     "metadata": {},
     "output_type": "execute_result"
    }
   ],
   "source": [
    "freq_table"
   ]
  },
  {
   "cell_type": "code",
   "execution_count": 12,
   "id": "62ac57e4-126a-4e68-a016-8a071ef89f3e",
   "metadata": {
    "scrolled": true
   },
   "outputs": [
    {
     "data": {
      "text/plain": [
       "[['the', 'sun', 'shines', 'bright', 'in', 'the', 'clear', 'blue', 'sky'],\n",
       " ['flowers', 'bloom', 'with', 'vibrant', 'colors', 'in', 'spring'],\n",
       " ['trees', 'provide', 'shade', 'and', 'fresh', 'air', 'in', 'the', 'forest'],\n",
       " ['rivers', 'flow', 'gently', 'through', 'the', 'mountains'],\n",
       " ['birds', 'sing', 'melodious', 'songs', 'at', 'dawn'],\n",
       " ['the',\n",
       "  'moon',\n",
       "  'casts',\n",
       "  'a',\n",
       "  'soft',\n",
       "  'glow',\n",
       "  'on',\n",
       "  'the',\n",
       "  'earth',\n",
       "  'at',\n",
       "  'night'],\n",
       " ['stars', 'twinkle', 'in', 'the', 'vast', 'night', 'sky'],\n",
       " ['rain', 'nourishes', 'the', 'soil', ',', 'bringing', 'life', 'to', 'plants'],\n",
       " ['winds', 'whisper', 'through', 'the', 'leaves', 'of', 'trees'],\n",
       " ['the', 'beauty', 'of', 'nature', 'is', 'a', 'gift', 'to', 'all']]"
      ]
     },
     "execution_count": 12,
     "metadata": {},
     "output_type": "execute_result"
    }
   ],
   "source": [
    "token"
   ]
  },
  {
   "cell_type": "code",
   "execution_count": null,
   "id": "a2d20fe2-972b-4d86-ae67-032dbd3e6637",
   "metadata": {},
   "outputs": [],
   "source": []
  },
  {
   "cell_type": "code",
   "execution_count": 13,
   "id": "b2fb9613-7563-43b2-bbd3-4ea01c8231e2",
   "metadata": {},
   "outputs": [],
   "source": [
    "def bigram(listt):\n",
    "    big = []\n",
    "    for sent in range(len(listt)):\n",
    "        for tok in range(len(listt[sent])-1):\n",
    "            big.append((listt[sent][tok],listt[sent][tok+1]))\n",
    "    return big"
   ]
  },
  {
   "cell_type": "code",
   "execution_count": 14,
   "id": "7f8c0bdc-c380-49be-b01f-a2cc83840293",
   "metadata": {},
   "outputs": [],
   "source": [
    "big = bigram(token)"
   ]
  },
  {
   "cell_type": "code",
   "execution_count": null,
   "id": "4183b52d-6253-4fa6-a60b-30568903e034",
   "metadata": {},
   "outputs": [],
   "source": []
  },
  {
   "cell_type": "code",
   "execution_count": 15,
   "id": "9863353c-e9b9-4797-82d9-37292519e532",
   "metadata": {},
   "outputs": [],
   "source": [
    "bigram_freq = {}\n"
   ]
  },
  {
   "cell_type": "code",
   "execution_count": null,
   "id": "a52ed7fc-2869-411e-b590-1cd69387a890",
   "metadata": {},
   "outputs": [],
   "source": [
    "\n",
    "\n"
   ]
  },
  {
   "cell_type": "code",
   "execution_count": 18,
   "id": "90f291c1-0f8c-4a3d-8803-9d72dd54138d",
   "metadata": {},
   "outputs": [],
   "source": [
    "\n",
    "bigram_freqs_alternative = Counter(big)"
   ]
  },
  {
   "cell_type": "code",
   "execution_count": 19,
   "id": "888d4a37-6c0a-426f-b7a8-23a76c0deef6",
   "metadata": {},
   "outputs": [
    {
     "data": {
      "text/plain": [
       "[(('in', 'the'), 3),\n",
       " (('through', 'the'), 2),\n",
       " (('the', 'sun'), 1),\n",
       " (('sun', 'shines'), 1),\n",
       " (('shines', 'bright'), 1),\n",
       " (('bright', 'in'), 1),\n",
       " (('the', 'clear'), 1),\n",
       " (('clear', 'blue'), 1),\n",
       " (('blue', 'sky'), 1),\n",
       " (('flowers', 'bloom'), 1)]"
      ]
     },
     "execution_count": 19,
     "metadata": {},
     "output_type": "execute_result"
    }
   ],
   "source": [
    "bigram_freqs_alternative.most_common(10)"
   ]
  },
  {
   "cell_type": "code",
   "execution_count": 20,
   "id": "3b379a31-52ef-4b02-9718-3ecd99c399dc",
   "metadata": {},
   "outputs": [],
   "source": [
    "dummy_sentence = \"The moon glows softly in the garden\"\n",
    "dummy_tokens = dummy_sentence.lower().split()"
   ]
  },
  {
   "cell_type": "code",
   "execution_count": null,
   "id": "d51f44f9-6468-441c-b5f0-137980785f6c",
   "metadata": {},
   "outputs": [],
   "source": []
  },
  {
   "cell_type": "code",
   "execution_count": 22,
   "id": "6415b688-519c-47a2-9712-927d140d230e",
   "metadata": {},
   "outputs": [],
   "source": [
    "flat_tokens_alternative = [t for sublist in token for t in sublist]"
   ]
  },
  {
   "cell_type": "code",
   "execution_count": 25,
   "id": "e5f89264-da6f-466b-ad81-b84ae7108f4d",
   "metadata": {},
   "outputs": [],
   "source": [
    "vocab = set(flat_tokens_alternative)"
   ]
  },
  {
   "cell_type": "code",
   "execution_count": 26,
   "id": "2b53d98b-364d-47e5-9270-608501df256d",
   "metadata": {},
   "outputs": [],
   "source": [
    "from collections import defaultdict"
   ]
  },
  {
   "cell_type": "code",
   "execution_count": 27,
   "id": "53030385-05b2-4b26-86df-7886ec72ccb6",
   "metadata": {},
   "outputs": [],
   "source": [
    "\n",
    "\n",
    "vocab_size = len(vocab)\n",
    "total_bigrams = sum(bigram_freqs_alternative.values())\n",
    "smoothed_bigrams = defaultdict(lambda: 1, {k: v + 1 for k, v in bigram_freqs_alternative.items()})\n",
    "\n"
   ]
  },
  {
   "cell_type": "code",
   "execution_count": 28,
   "id": "40ae7b32-7074-4cd1-b5a4-1e2a9e94446c",
   "metadata": {},
   "outputs": [],
   "source": [
    "dummy_bigrams = list(bigrams(dummy_tokens))\n",
    "dummy_bigram_probabilities = {}\n",
    "\n"
   ]
  },
  {
   "cell_type": "code",
   "execution_count": 29,
   "id": "7169b15e-e782-44cf-abed-ef4776166e66",
   "metadata": {},
   "outputs": [
    {
     "data": {
      "text/plain": [
       "{('the', 'moon'): 0.02857142857142857,\n",
       " ('moon', 'glows'): 0.01639344262295082,\n",
       " ('glows', 'softly'): 0.016666666666666666,\n",
       " ('softly', 'in'): 0.016666666666666666,\n",
       " ('in', 'the'): 0.0625,\n",
       " ('the', 'garden'): 0.014285714285714285}"
      ]
     },
     "execution_count": 29,
     "metadata": {},
     "output_type": "execute_result"
    }
   ],
   "source": [
    "for bigram in dummy_bigrams:\n",
    "    numerator = smoothed_bigrams[bigram]\n",
    "    denominator = flat_tokens_alternative.count(bigram[0]) + vocab_size\n",
    "    probability = numerator / denominator\n",
    "    dummy_bigram_probabilities[bigram] = probability\n",
    "\n",
    "dummy_bigram_probabilities"
   ]
  },
  {
   "cell_type": "code",
   "execution_count": null,
   "id": "82392ebc-b431-4a8d-88af-6a469bdeace6",
   "metadata": {},
   "outputs": [],
   "source": []
  }
 ],
 "metadata": {
  "kernelspec": {
   "display_name": "Python 3 (ipykernel)",
   "language": "python",
   "name": "python3"
  },
  "language_info": {
   "codemirror_mode": {
    "name": "ipython",
    "version": 3
   },
   "file_extension": ".py",
   "mimetype": "text/x-python",
   "name": "python",
   "nbconvert_exporter": "python",
   "pygments_lexer": "ipython3",
   "version": "3.9.18"
  }
 },
 "nbformat": 4,
 "nbformat_minor": 5
}
